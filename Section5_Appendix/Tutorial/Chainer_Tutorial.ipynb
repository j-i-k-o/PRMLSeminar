{
 "cells": [
  {
   "cell_type": "markdown",
   "metadata": {},
   "source": [
    "# Chainerを用いたニューラルネットワーク"
   ]
  },
  {
   "cell_type": "markdown",
   "metadata": {},
   "source": [
    "### まずはとりあえずおまじない"
   ]
  },
  {
   "cell_type": "code",
   "execution_count": 2,
   "metadata": {
    "collapsed": true
   },
   "outputs": [],
   "source": [
    "import numpy as np\n",
    "import chainer\n",
    "from chainer.backends import cuda\n",
    "from chainer import Function, gradient_check, report, training, utils, Variable\n",
    "from chainer import datasets, iterators, optimizers, serializers\n",
    "from chainer import Link, Chain, ChainList\n",
    "import chainer.functions as F\n",
    "import chainer.links as L\n",
    "from chainer.training import extensions\n",
    "from __future__ import print_function\n",
    "\n",
    "#可視化用\n",
    "from IPython.display import Image\n",
    "import matplotlib.pyplot as plt"
   ]
  },
  {
   "cell_type": "markdown",
   "metadata": {},
   "source": [
    "### Chainerについて  \n",
    "ディープラーニングを手軽に試せるツールとして、Chainerはおすすめ(らしい)。導入のしやすさに加え、[Trainer](https://docs.chainer.org/en/stable/glance.html#trainer-structure)という機能によってシンプルなコーディングでディープラーニングで必要な様々なことが可能になる。TrainerのUIサポート([ChainerUI](http://chainerui.readthedocs.io/en/latest/index.html))なんてのもある。  \n",
    "ディープラーニングは様々なハイパーパラメータが存在しており、よほどのプロでない限り与えられたデータに対して正しいアプローチを見つけ出すのは容易ではない。ChainerではTrainerの拡張機能によって学習中のコスト関数やパラメータ、汎化性能の値や挙動を常時モニタリングでき、ビギナーにとって感覚がつかみやすい仕様となっている。(~~まあ、TensorFlowにもあるらしいけれど~~)  \n",
    "**注**:以下の例を見る前に、Trainerのリンクからその構造をなんとなく理解しておくべし。"
   ]
  },
  {
   "cell_type": "markdown",
   "metadata": {},
   "source": [
    "### Datasets  \n",
    "今回はCIFAR-10を用いる。ダウンロードしていない場合も自動でダウンロードしてくれる。  \n",
    "データセットのうち9割をtrainに、残りをvalidationに分ける。"
   ]
  },
  {
   "cell_type": "code",
   "execution_count": 3,
   "metadata": {
    "collapsed": true
   },
   "outputs": [],
   "source": [
    "from chainer.datasets import cifar\n",
    "from chainer.datasets import split_dataset_random\n",
    "\n",
    "train_val, test = cifar.get_cifar10()\n",
    "\n",
    "train_size = int(len(train_val) * 0.9)\n",
    "train, valid = split_dataset_random(train_val, train_size, seed=0)"
   ]
  },
  {
   "cell_type": "markdown",
   "metadata": {},
   "source": [
    "### ネットワークの定義  \n",
    "続いて、自分なりに構築したモデルをclass MyNetとして定義する。chainerでは(重みなどの)パラメータを持つ層をLink,持たない層をFunctionと  \n",
    "二つに分けて記述する。  \n",
    "私は(Convolution→Pooling)×4→Fully connected×2という構造のネットワークにしてみた。"
   ]
  },
  {
   "cell_type": "code",
   "execution_count": 4,
   "metadata": {
    "collapsed": true
   },
   "outputs": [],
   "source": [
    "class MyNet(chainer.Chain):\n",
    "\n",
    "    def __init__(self, n_out=10):\n",
    "        super(MyNet, self).__init__()\n",
    "        with self.init_scope():\n",
    "            self.conv1 = L.Convolution2D(None, 32, 3, 3, 1)\n",
    "            self.conv2 = L.Convolution2D(32, 64, 3, 3, 1)\n",
    "            self.conv3 = L.Convolution2D(64, 128, 3, 3, 1)\n",
    "            self.conv4 = L.Convolution2D(128, 128, 3, 3, 1)\n",
    "            self.conv5 = L.Convolution2D(128, 128, 3, 3, 1)\n",
    "            self.fc6 = L.Linear(None, 1000)\n",
    "            self.fc7 = L.Linear(1000, n_out)\n",
    "            self.bn1 = L.BatchNormalization(32)\n",
    "            self.bn2 = L.BatchNormalization(64)\n",
    "            self.bn3 = L.BatchNormalization(128)\n",
    "            self.bn4 = L.BatchNormalization(128)\n",
    "            self.bn5 = L.BatchNormalization(128)\n",
    "            self.bn6 = L.BatchNormalization(1000)\n",
    "            \n",
    "\n",
    "    def __call__(self, x):\n",
    "        h = F.max_pooling_2d(F.relu(self.bn1(self.conv1(x))), 2)\n",
    "        h = F.max_pooling_2d(F.relu(self.bn2(self.conv2(h))), 2)\n",
    "        h = F.max_pooling_2d(F.relu(self.bn3(self.conv3(h))), 2)\n",
    "        h = F.max_pooling_2d(F.relu(self.bn4(self.conv4(h))), 2)\n",
    "        h = F.max_pooling_2d(F.relu(self.bn5(self.conv5(h))), 2)      \n",
    "        h = F.relu(self.bn6(self.fc6(h)))\n",
    "        h = self.fc7(h)\n",
    "        return h"
   ]
  },
  {
   "cell_type": "markdown",
   "metadata": {},
   "source": [
    "### Model  \n",
    "Optimizerに渡すModelはGPUで計算する。"
   ]
  },
  {
   "cell_type": "code",
   "execution_count": 5,
   "metadata": {
    "collapsed": true
   },
   "outputs": [],
   "source": [
    "model = MyNet()\n",
    "\n",
    "gpu_id = 0 #NOTE:CPUで計算する場合、-1に設定\n",
    "\n",
    "if gpu_id >= 0:\n",
    "    model.to_gpu(gpu_id)\n",
    "\n",
    "model = L.Classifier(model) #Classifierという名前がついているが、loss functionを変えることで回帰にも使うことができる。loss functionのデフォルトはsoftmax_cross_entropy。"
   ]
  },
  {
   "cell_type": "markdown",
   "metadata": {},
   "source": [
    "### Iterator"
   ]
  },
  {
   "cell_type": "code",
   "execution_count": 6,
   "metadata": {
    "collapsed": true
   },
   "outputs": [],
   "source": [
    "batchsize = 128 #ミニバッチのサイズ\n",
    "\n",
    "train_iter = iterators.SerialIterator(train, batchsize)\n",
    "valid_iter = iterators.SerialIterator(valid, batchsize, False, False)\n",
    "test_iter = iterators.SerialIterator(test, batchsize, False, False)"
   ]
  },
  {
   "cell_type": "markdown",
   "metadata": {},
   "source": [
    "### Optimizer"
   ]
  },
  {
   "cell_type": "code",
   "execution_count": 7,
   "metadata": {},
   "outputs": [
    {
     "data": {
      "text/plain": [
       "<chainer.optimizers.ada_grad.AdaGrad at 0x28b3249ce48>"
      ]
     },
     "execution_count": 7,
     "metadata": {},
     "output_type": "execute_result"
    }
   ],
   "source": [
    "optimizer = optimizers.AdaGrad(lr=0.01) #AdaGradを最適化法として選択\n",
    "\n",
    "optimizer.setup(model) #optimizerにmodelを参照させる"
   ]
  },
  {
   "cell_type": "markdown",
   "metadata": {},
   "source": [
    "### Updater"
   ]
  },
  {
   "cell_type": "code",
   "execution_count": 8,
   "metadata": {
    "collapsed": true
   },
   "outputs": [],
   "source": [
    "updater = training.StandardUpdater(train_iter, optimizer, device=gpu_id)"
   ]
  },
  {
   "cell_type": "markdown",
   "metadata": {},
   "source": [
    "### Trainer/Extensions"
   ]
  },
  {
   "cell_type": "code",
   "execution_count": 13,
   "metadata": {
    "collapsed": true
   },
   "outputs": [],
   "source": [
    "max_epoch=30\n",
    "\n",
    "trainer = training.Trainer(updater, (max_epoch, 'epoch'), out='cifar10_result')\n",
    "\n",
    "trainer.extend(extensions.LogReport())\n",
    "trainer.extend(extensions.Evaluator(valid_iter, model, device=gpu_id), name='validation')\n",
    "trainer.extend(extensions.snapshot(filename='snapshot_epoch-{.updater.epoch}'))\n",
    "trainer.extend(extensions.snapshot_object(model.predictor, filename='model_epoch-{.updater.epoch}'))\n",
    "trainer.extend(extensions.PrintReport(['epoch', 'main/loss', 'main/accuracy', 'validation/main/loss', 'validation/main/accuracy', 'elapsed_time']))\n",
    "trainer.extend(extensions.PlotReport(['main/loss', 'validation/main/loss'], x_key='epoch', file_name='loss.png'))\n",
    "trainer.extend(extensions.PlotReport(['main/accuracy', 'validation/main/accuracy'], x_key='epoch', file_name='accuracy.png'))\n",
    "trainer.extend(extensions.dump_graph('main/loss'))"
   ]
  },
  {
   "cell_type": "markdown",
   "metadata": {},
   "source": [
    "### 実行"
   ]
  },
  {
   "cell_type": "code",
   "execution_count": 14,
   "metadata": {
    "scrolled": true
   },
   "outputs": [
    {
     "name": "stdout",
     "output_type": "stream",
     "text": [
      "epoch       main/loss   main/accuracy  validation/main/loss  validation/main/accuracy  elapsed_time\n",
      "1           1.19126     0.578125       1.38703               0.498242                  1.2203        \n",
      "2           1.29022     0.535536       1.31039               0.520898                  10.9162       \n",
      "3           1.19302     0.56891        1.31086               0.532617                  20.4534       \n",
      "4           1.12371     0.595059       1.24243               0.554883                  29.1053       \n",
      "5           1.06992     0.614049       1.2434                0.55957                   37.6462       \n",
      "6           1.02256     0.630815       1.20956               0.569922                  46.2414       \n",
      "7           0.982743    0.647258       1.20849               0.570898                  55.5979       \n",
      "8           0.945113    0.659513       1.22202               0.57168                   65.1957       \n",
      "9           0.913888    0.671431       1.20769               0.575195                  74.686        \n",
      "10          0.884895    0.682314       1.20772               0.575195                  83.7263       \n",
      "11          0.857421    0.691895       1.2166                0.574805                  92.9352       \n",
      "12          0.8315      0.70219        1.23876               0.576758                  101.521       \n",
      "13          0.806771    0.711048       1.23635               0.582227                  111.505       \n",
      "14          0.781332    0.719373       1.25334               0.571484                  120.491       \n",
      "15          0.759723    0.727428       1.26208               0.573633                  129.831       \n",
      "16          0.737063    0.735889       1.28235               0.577344                  138.26        \n",
      "17          0.721172    0.742232       1.28039               0.575586                  147.31        \n",
      "18          0.699084    0.752663       1.31058               0.577148                  156.094       \n",
      "19          0.678271    0.757768       1.29517               0.577539                  164.651       \n",
      "20          0.663196    0.765803       1.31104               0.582227                  173.399       \n",
      "21          0.646593    0.771011       1.34308               0.571875                  182.236       \n",
      "22          0.631141    0.77619        1.33722               0.576758                  190.672       \n",
      "23          0.614262    0.782096       1.36603               0.578906                  199.472       \n",
      "24          0.600342    0.789196       1.38428               0.574219                  208.248       \n",
      "25          0.582125    0.795299       1.39122               0.574219                  216.977       \n",
      "26          0.57042     0.799657       1.38667               0.579687                  226.006       \n",
      "27          0.557805    0.8038         1.41277               0.57207                   235.046       \n",
      "28          0.546541    0.807203       1.42268               0.572461                  243.687       \n",
      "29          0.534858    0.812123       1.43359               0.575195                  252.472       \n",
      "30          0.515699    0.821403       1.45963               0.569922                  261.218       \n"
     ]
    }
   ],
   "source": [
    "trainer.run()"
   ]
  },
  {
   "cell_type": "code",
   "execution_count": 15,
   "metadata": {},
   "outputs": [
    {
     "data": {
      "image/png": "[encoded data removed]",
      "text/plain": [
       "<IPython.core.display.Image object>"
      ]
     },
     "execution_count": 15,
     "metadata": {},
     "output_type": "execute_result"
    }
   ],
   "source": [
    "Image(filename='cifar10_result/loss.png')"
   ]
  },
  {
   "cell_type": "code",
   "execution_count": 16,
   "metadata": {},
   "outputs": [
    {
     "data": {
      "image/png": "[encoded data removed]",
      "text/plain": [
       "<IPython.core.display.Image object>"
      ]
     },
     "execution_count": 16,
     "metadata": {},
     "output_type": "execute_result"
    }
   ],
   "source": [
    "Image(filename='cifar10_result/accuracy.png')"
   ]
  },
  {
   "cell_type": "code",
   "execution_count": 17,
   "metadata": {},
   "outputs": [
    {
     "name": "stdout",
     "output_type": "stream",
     "text": [
      "Test accuracy: 0.5774327516555786\n"
     ]
    }
   ],
   "source": [
    "test_evaluator = extensions.Evaluator(test_iter, model, device=gpu_id)\n",
    "results = test_evaluator()\n",
    "print('Test accuracy:', results['main/accuracy'])"
   ]
  },
  {
   "cell_type": "markdown",
   "metadata": {},
   "source": [
    "過学習してる...(泣)次回は拡張機能(trainer.extend)等を触りながら、より良いモデルチューニングしていく。"
   ]
  }
 ],
 "metadata": {
  "kernelspec": {
   "display_name": "Python 3",
   "language": "python",
   "name": "python3"
  },
  "language_info": {
   "codemirror_mode": {
    "name": "ipython",
    "version": 3
   },
   "file_extension": ".py",
   "mimetype": "text/x-python",
   "name": "python",
   "nbconvert_exporter": "python",
   "pygments_lexer": "ipython3",
   "version": "3.6.1"
  }
 },
 "nbformat": 4,
 "nbformat_minor": 2
}
