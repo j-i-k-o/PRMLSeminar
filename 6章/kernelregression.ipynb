{
 "cells": [
  {
   "cell_type": "markdown",
   "metadata": {
    "collapsed": true
   },
   "source": [
    "# カーネルリッジ回帰"
   ]
  },
  {
   "cell_type": "code",
   "execution_count": 4,
   "metadata": {
    "collapsed": true
   },
   "outputs": [],
   "source": [
    "import numpy as np\n",
    "import matplotlib.pyplot as plt\n",
    "from sklearn.kernel_ridge import KernelRidge\n",
    "from sklearn.model_selection import GridSearchCV\n",
    "from sklearn.gaussian_process.kernels import ExpSineSquared\n",
    "%matplotlib inline\n",
    "\n",
    "rng = np.random.RandomState(1)"
   ]
  },
  {
   "cell_type": "markdown",
   "metadata": {},
   "source": [
    "## サンプルデータ生成"
   ]
  },
  {
   "cell_type": "code",
   "execution_count": 12,
   "metadata": {
    "collapsed": true
   },
   "outputs": [],
   "source": [
    "X = 2*np.pi*rng.rand(30, 1)\n",
    "Y = np.sin(X) + 0.2*rng.randn(30, 1)"
   ]
  },
  {
   "cell_type": "markdown",
   "metadata": {},
   "source": [
    "## 5-fold クロスバリデーションによるパラメータ決定"
   ]
  },
  {
   "cell_type": "code",
   "execution_count": 13,
   "metadata": {},
   "outputs": [
    {
     "data": {
      "text/plain": [
       "GridSearchCV(cv=5, error_score='raise',\n",
       "       estimator=KernelRidge(alpha=1, coef0=1, degree=3, gamma=None, kernel='linear',\n",
       "      kernel_params=None),\n",
       "       fit_params={}, iid=True, n_jobs=1,\n",
       "       param_grid={'alpha': [1.0, 0.1, 0.01, 0.001], 'kernel': [ExpSineSquared(length_scale=0.01, periodicity=1), ExpSineSquared(length_scale=0.01, periodicity=1.67), ExpSineSquared(length_scale=0.01, periodicity=2.78), ExpSineSquared(length_scale=0.01, periodicity=4.64), ExpSineSquared(length_scale=0.01, ...SineSquared(length_scale=100, periodicity=59.9), ExpSineSquared(length_scale=100, periodicity=100)]},\n",
       "       pre_dispatch='2*n_jobs', refit=True, return_train_score=True,\n",
       "       scoring=None, verbose=0)"
      ]
     },
     "execution_count": 13,
     "metadata": {},
     "output_type": "execute_result"
    }
   ],
   "source": [
    "grid = {\"alpha\": [1e0, 1e-1, 1e-2, 1e-3],\n",
    "        \"kernel\": [ExpSineSquared(l, p)\n",
    "                    for l in np.logspace(-2, 2, 10)\n",
    "                    for p in np.logspace(0, 2, 10)]}\n",
    "kreg = GridSearchCV(KernelRidge(), param_grid = grid, cv=5)\n",
    "kreg.fit(X, Y)"
   ]
  },
  {
   "cell_type": "markdown",
   "metadata": {},
   "source": [
    "## 予測と結果のプロット"
   ]
  },
  {
   "cell_type": "code",
   "execution_count": 14,
   "metadata": {},
   "outputs": [
    {
     "data": {
      "text/plain": [
       "<matplotlib.legend.Legend at 0x23dcea040b8>"
      ]
     },
     "execution_count": 14,
     "metadata": {},
     "output_type": "execute_result"
    },
    {
     "data": {
      "image/png": "[encoded data removed]",
      "text/plain": [
       "<matplotlib.figure.Figure at 0x23dcd941e48>"
      ]
     },
     "metadata": {},
     "output_type": "display_data"
    }
   ],
   "source": [
    "X_ = np.linspace(0, 2*np.pi, 1000)[:, None]\n",
    "Y_ = kreg.predict(X_)\n",
    "\n",
    "plt.scatter(X, Y, c='k')\n",
    "plt.plot(X_, np.sin(X_), label='sin')\n",
    "plt.plot(X_, Y_, label='kernel ridge')\n",
    "plt.legend(loc='best')"
   ]
  },
  {
   "cell_type": "code",
   "execution_count": null,
   "metadata": {
    "collapsed": true
   },
   "outputs": [],
   "source": []
  }
 ],
 "metadata": {
  "kernelspec": {
   "display_name": "Python 3",
   "language": "python",
   "name": "python3"
  },
  "language_info": {
   "codemirror_mode": {
    "name": "ipython",
    "version": 3
   },
   "file_extension": ".py",
   "mimetype": "text/x-python",
   "name": "python",
   "nbconvert_exporter": "python",
   "pygments_lexer": "ipython3",
   "version": "3.6.1"
  }
 },
 "nbformat": 4,
 "nbformat_minor": 2
}
